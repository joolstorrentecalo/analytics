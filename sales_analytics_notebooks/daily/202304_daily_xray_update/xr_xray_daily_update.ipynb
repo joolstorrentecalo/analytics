{
 "cells": [
  {
   "cell_type": "code",
   "execution_count": null,
   "id": "fb7eadbd-7adf-4c53-ac07-3c2dec095ff1",
   "metadata": {
    "tags": [
     "parameters"
    ]
   },
   "outputs": [],
   "source": [
    "# this is a parameter that will get overwritten when run by papermill on a schedules\n",
    "is_local_development = True"
   ]
  },
  {
   "cell_type": "code",
   "execution_count": null,
   "id": "40c27b8a",
   "metadata": {},
   "outputs": [],
   "source": [
    "!python -m pip install gitlabdata --upgrade"
   ]
  },
  {
   "cell_type": "code",
   "execution_count": null,
   "id": "edea41d9-b0a0-415d-998a-9e7c0f3b8312",
   "metadata": {},
   "outputs": [],
   "source": [
    "import configparser\n",
    "\n",
    "# import sys\n",
    "import pandas as pd\n",
    "from datetime import datetime\n",
    "import numpy as np\n",
    "import matplotlib.pyplot as plt\n",
    "from datetime import date\n",
    "import json, os\n",
    "from pyprojroot import here\n",
    "from os import environ as env"
   ]
  },
  {
   "cell_type": "code",
   "execution_count": null,
   "id": "4ca065e8-5fc5-409a-a428-5eb2d9e3ad72",
   "metadata": {},
   "outputs": [],
   "source": [
    "from gitlabdata.orchestration_utils import (\n",
    "    data_science_engine_factory,\n",
    "    query_dataframe,\n",
    "    snowflake_engine_factory,\n",
    "    snowflake_stage_load_copy_remove,\n",
    "    get_env_from_profile,\n",
    "    dataframe_uploader,\n",
    "    write_to_gsheets,\n",
    "    read_from_gsheets,\n",
    "    query_executor,\n",
    "    query_from_file,\n",
    ")"
   ]
  },
  {
   "cell_type": "markdown",
   "id": "5a898e93-3838-4401-842e-320b4336557a",
   "metadata": {},
   "source": [
    "## Create Snowflake engine"
   ]
  },
  {
   "cell_type": "code",
   "execution_count": null,
   "id": "859777a1-99e7-42a1-a2eb-a895ba919c32",
   "metadata": {},
   "outputs": [],
   "source": [
    "# engine factory can be created using a local role from output\n",
    "# depending on this notebook being run locally or remotely, the\n",
    "# engine is creation process is different\n",
    "\n",
    "if is_local_development:\n",
    "    snowflake_engine = data_science_engine_factory(\n",
    "        profile_target=\"sales_analytics_local\"\n",
    "    )\n",
    "else:\n",
    "    snowflake_engine = snowflake_engine_factory(env, \"SALES_ANALYTICS\")\n",
    "\n",
    "    raw_db_name = env[\"SNOWFLAKE_LOAD_DATABASE\"]\n",
    "    prod_db_name = env[\"SNOWFLAKE_PROD_DATABASE\"]\n",
    "\n",
    "snowflake_engine"
   ]
  },
  {
   "cell_type": "markdown",
   "id": "4516078d-439b-4276-bef1-53ace391225a",
   "metadata": {
    "tags": []
   },
   "source": [
    "## Credentials for Gsheet manipulation\n",
    "\n",
    "Remember to give access to the following two users:\n",
    "\n",
    "- Data Team runner: data-team-sheets-sa@gitlab-analysis.iam.gserviceaccount.com\n",
    "- Sales Strategy service account: service-revenue-strat-analytic@revenue-strategy-anal-411d5a72.iam.gserviceaccount.com"
   ]
  },
  {
   "cell_type": "code",
   "execution_count": null,
   "id": "54ec218f-85cf-4ec3-92e2-012799c81475",
   "metadata": {},
   "outputs": [],
   "source": [
    "# read the credentials of the google service account\n",
    "if is_local_development:\n",
    "    credentials_path = here(\"credentials/rsa_gcloud_service_account.json\")\n",
    "    # credentials_path = here(\"credentials/gsheet_service_file.json\")\n",
    "\n",
    "    with open(credentials_path) as f:\n",
    "        service_account_credentials = f.read().replace(\"\\n\", \"\")\n",
    "\n",
    "    # set the credential as a enviroment variable\n",
    "    os.environ[\"GSHEETS_SERVICE_ACCOUNT_CREDENTIALS\"] = service_account_credentials"
   ]
  },
  {
   "cell_type": "markdown",
   "id": "eccb2b25-72c0-4b5d-812e-59cbcf16bc40",
   "metadata": {},
   "source": [
    "# X-Ray daily ETL update process\n",
    "\n",
    "This notebook is run daily to update the X-Ray dashboard. \n",
    "\n",
    "The process is responsible of updating the following datasets:\n",
    "\n",
    "1. QTD Metrics\n",
    "2. Historical values subset"
   ]
  },
  {
   "cell_type": "markdown",
   "id": "81b356fa-3547-4608-a852-52ff741c6e91",
   "metadata": {
    "tags": []
   },
   "source": [
    "## Excute Snowflake query"
   ]
  },
  {
   "cell_type": "code",
   "execution_count": null,
   "id": "5d611210",
   "metadata": {},
   "outputs": [],
   "source": [
    "qtd_metrics = query_from_file(snowflake_engine, \"xr_qtd_metrics_for_xray.sql\")"
   ]
  },
  {
   "cell_type": "code",
   "execution_count": null,
   "id": "bc9bfa9f-0120-4c34-af91-0d03861ac582",
   "metadata": {},
   "outputs": [],
   "source": [
    "# Test\n",
    "qtd_metrics.qtd_booked_net_arr.sum()"
   ]
  },
  {
   "cell_type": "code",
   "execution_count": null,
   "id": "732a2684-fe38-4499-aafa-774fce211ebe",
   "metadata": {},
   "outputs": [],
   "source": [
    "hist_qtr_metrics = query_from_file(\n",
    "    snowflake_engine, \"xr_hist_qtr_coverages_for_xray.sql\"\n",
    ")\n",
    "hist_qtr_metrics[\"last_extracted_etl\"] = date.today()"
   ]
  },
  {
   "cell_type": "code",
   "execution_count": null,
   "id": "6533be07-f9f0-4f5c-9273-ac63f44a5054",
   "metadata": {},
   "outputs": [],
   "source": [
    "hist_qtr_metrics.head()"
   ]
  },
  {
   "cell_type": "code",
   "execution_count": null,
   "id": "7f2a0e4f-5fdb-40c8-ae70-6525a8f5a3a5",
   "metadata": {},
   "outputs": [],
   "source": [
    "hist_fy_n4q_metrics = query_from_file(\n",
    "    snowflake_engine, \"xr_hist_fy_n4q_coverages_for_xray.sql\"\n",
    ")\n",
    "\n",
    "hist_fy_n4q_metrics[\"last_extracted_etl\"] = date.today()"
   ]
  },
  {
   "cell_type": "code",
   "execution_count": null,
   "id": "f8f1e147-2fa2-49a2-940b-8956e0f25846",
   "metadata": {},
   "outputs": [],
   "source": [
    "hist_fy_n4q_metrics.head()"
   ]
  },
  {
   "cell_type": "markdown",
   "id": "eed27c40-f8c9-47ab-990d-ef7f47d2b0a6",
   "metadata": {},
   "source": [
    "## QTD Metrics Extracts"
   ]
  },
  {
   "cell_type": "markdown",
   "id": "e889fee1-0885-449b-8d6e-6a55e7c91ef8",
   "metadata": {},
   "source": [
    "### QTD Transform data into a pre-aggregated table"
   ]
  },
  {
   "cell_type": "code",
   "execution_count": null,
   "id": "225792e5-b582-4e10-b200-3122d11108c4",
   "metadata": {},
   "outputs": [],
   "source": [
    "# SQL output is imported as a dataframe variable called 'df'\n",
    "\n",
    "df = qtd_metrics.copy()\n",
    "\n",
    "\n",
    "# check the subset of columns and if see an na or an other\n",
    "# set all the keys to other\n",
    "def check_for_others_or_na(x):\n",
    "    if (\"other\" in \"\\t\".join(list(x))) or (\"na\" in list(x)):\n",
    "        x = x.apply(lambda x: \"other\")\n",
    "\n",
    "    return x\n",
    "\n",
    "\n",
    "### considered keys\n",
    "agg_key_list = [\n",
    "    \"key_overall\",\n",
    "    \"key_sqs\",\n",
    "    \"key_ot\",\n",
    "    \"key_bu\",\n",
    "    \"key_bu_ot\",\n",
    "    \"key_bu_sqs\",\n",
    "    \"key_bu_subbu\",\n",
    "    \"key_bu_subbu_ot\",\n",
    "    \"key_bu_subbu_sqs\",\n",
    "    \"key_bu_subbu_division\",\n",
    "    \"key_bu_subbu_division_ot\",\n",
    "    \"key_bu_subbu_division_sqs\",\n",
    "    \"key_bu_subbu_division_asm\",\n",
    "]\n",
    "\n",
    "metrics_list = [\n",
    "    \"qtd_open_1plus_deal_count\",\n",
    "    \"qtd_open_3plus_deal_count\",\n",
    "    \"qtd_open_4plus_deal_count\",\n",
    "    \"qtd_closed_deal_count\",\n",
    "    \"qtd_pipe_gen_deal_count\",\n",
    "    \"qtd_booked_net_arr\",\n",
    "    \"qtd_open_1plus_net_arr\",\n",
    "    \"qtd_open_3plus_net_arr\",\n",
    "    \"qtd_open_4plus_net_arr\",\n",
    "    \"qtd_pipe_gen_net_arr\",\n",
    "    \"qtd_created_and_closed_net_arr\",\n",
    "    \"rq_plus_1_open_1plus_deal_count\",\n",
    "    \"rq_plus_1_open_3plus_deal_count\",\n",
    "    \"rq_plus_1_open_4plus_deal_count\",\n",
    "    \"rq_plus_1_open_1plus_net_arr\",\n",
    "    \"rq_plus_1_open_3plus_net_arr\",\n",
    "    \"rq_plus_1_open_4plus_net_arr\",\n",
    "    \"rq_plus_2_open_1plus_deal_count\",\n",
    "    \"rq_plus_2_open_3plus_deal_count\",\n",
    "    \"rq_plus_2_open_4plus_deal_count\",\n",
    "    \"rq_plus_2_open_1plus_net_arr\",\n",
    "    \"rq_plus_2_open_3plus_net_arr\",\n",
    "    \"rq_plus_2_open_4plus_net_arr\",\n",
    "    \"minus_1_year_pipe_gen_net_arr\",\n",
    "    \"cfy_open_1plus_deal_count\",\n",
    "    \"cfy_open_3plus_deal_count\",\n",
    "    \"cfy_open_4plus_deal_count\",\n",
    "    \"cfy_closed_deal_count\",\n",
    "    \"cfy_booked_net_arr\",\n",
    "    \"cfy_open_1plus_net_arr\",\n",
    "    \"cfy_open_1plus_under_1m_net_arr\",\n",
    "    \"cfy_open_3plus_net_arr\",\n",
    "    \"cfy_open_4plus_net_arr\",\n",
    "    \"next_4q_open_1plus_deal_count\",\n",
    "    \"next_4q_open_3plus_deal_count\",\n",
    "    \"next_4q_open_4plus_deal_count\",\n",
    "    \"next_4q_open_1plus_net_arr\",\n",
    "    \"next_4q_open_3plus_net_arr\",\n",
    "    \"next_4q_open_4plus_net_arr\",\n",
    "    \"next_4q_booked_net_arr\",\n",
    "    \"minus_1_year_total_pipe_gen_net_arr\",\n",
    "    \"minus_1_year_pipe_gen_pacing\",\n",
    "]\n",
    "\n",
    "# initialize the dataframe\n",
    "results = None\n",
    "##### Initialize a few artificial metrics and update the data types\n",
    "df[metrics_list] = df[metrics_list].astype(float)\n",
    "\n",
    "# create an artificial global key to calculate a global curve for the whole company\n",
    "# df['KEY_OVERALL'] = 'global'\n",
    "df[\"key_overall\"] = \"other\"\n",
    "df.loc[df[\"key_bu\"] != \"other\", \"key_overall\"] = \"global\"\n",
    "\n",
    "for agg_key_value in agg_key_list:\n",
    "    temp_agg = df.groupby(agg_key_value)[metrics_list].sum().reset_index()\n",
    "\n",
    "    temp_agg.rename({agg_key_value: \"agg_key_value\"}, inplace=True, axis=1)\n",
    "    temp_agg[\"agg_key_name\"] = agg_key_value\n",
    "\n",
    "    if results is None:\n",
    "        results = temp_agg.copy()\n",
    "    else:\n",
    "        results = results.append(temp_agg)\n",
    "\n",
    "results.columns = results.columns.str.lower()\n",
    "\n",
    "fields_order = [\n",
    "    \"agg_key_value\",\n",
    "    \"agg_key_name\",\n",
    "    \"qtd_booked_net_arr\",\n",
    "    \"qtd_open_1plus_net_arr\",\n",
    "    \"qtd_open_3plus_net_arr\",\n",
    "    \"qtd_open_4plus_net_arr\",\n",
    "    \"qtd_pipe_gen_net_arr\",\n",
    "    \"rq_plus_1_open_1plus_net_arr\",\n",
    "    \"rq_plus_1_open_3plus_net_arr\",\n",
    "    \"rq_plus_1_open_4plus_net_arr\",\n",
    "    \"rq_plus_2_open_1plus_net_arr\",\n",
    "    \"rq_plus_2_open_3plus_net_arr\",\n",
    "    \"rq_plus_2_open_4plus_net_arr\",\n",
    "    \"qtd_created_and_closed_net_arr\",\n",
    "    \"minus_1_year_pipe_gen_net_arr\",\n",
    "    \"qtd_open_1plus_deal_count\",\n",
    "    \"qtd_open_3plus_deal_count\",\n",
    "    \"qtd_open_4plus_deal_count\",\n",
    "    \"qtd_closed_deal_count\",\n",
    "    \"qtd_pipe_gen_deal_count\",\n",
    "    \"rq_plus_1_open_1plus_deal_count\",\n",
    "    \"rq_plus_1_open_3plus_deal_count\",\n",
    "    \"rq_plus_1_open_4plus_deal_count\",\n",
    "    \"rq_plus_2_open_1plus_deal_count\",\n",
    "    \"rq_plus_2_open_3plus_deal_count\",\n",
    "    \"rq_plus_2_open_4plus_deal_count\",\n",
    "    \"current_fiscal_quarter_day_normalised\",\n",
    "    \"last_updated\",\n",
    "    \"cfy_open_1plus_deal_count\",\n",
    "    \"cfy_open_3plus_deal_count\",\n",
    "    \"cfy_open_4plus_deal_count\",\n",
    "    \"cfy_closed_deal_count\",\n",
    "    \"cfy_booked_net_arr\",\n",
    "    \"cfy_open_1plus_net_arr\",\n",
    "    \"cfy_open_1plus_under_1m_net_arr\",\n",
    "    \"cfy_open_3plus_net_arr\",\n",
    "    \"cfy_open_4plus_net_arr\",\n",
    "    \"next_4q_open_1plus_deal_count\",\n",
    "    \"next_4q_open_3plus_deal_count\",\n",
    "    \"next_4q_open_4plus_deal_count\",\n",
    "    \"next_4q_booked_net_arr\",\n",
    "    \"next_4q_open_1plus_net_arr\",\n",
    "    \"next_4q_open_3plus_net_arr\",\n",
    "    \"next_4q_open_4plus_net_arr\",\n",
    "    \"minus_1_year_total_pipe_gen_net_arr\",\n",
    "    \"minus_1_year_pipe_gen_pacing\",\n",
    "    \"last_extracted_etl\",\n",
    "]\n",
    "\n",
    "# I need to keep track in the dashboard of the latest day the extract was taking out, this is shown to the business users and used in the\n",
    "# historical report\n",
    "results[\"current_fiscal_quarter_day_normalised\"] = max(\n",
    "    df[\"current_fiscal_quarter_day_normalised\"]\n",
    ")\n",
    "results[\"last_updated\"] = date.today()\n",
    "results[\"last_extracted_etl\"] = date.today()\n",
    "\n",
    "qtd_pre_aggregated = results[fields_order].copy()\n",
    "\n",
    "# Calculate the ratio for pipe gen for each aggregated level\n",
    "qtd_pre_aggregated[\"minus_1_year_pipe_gen_pacing\"] = (\n",
    "    qtd_pre_aggregated[\"minus_1_year_pipe_gen_net_arr\"]\n",
    "    / qtd_pre_aggregated[\"minus_1_year_total_pipe_gen_net_arr\"]\n",
    ")\n",
    "qtd_pre_aggregated[\"minus_1_year_pipe_gen_pacing\"].fillna(0, inplace=True)"
   ]
  },
  {
   "cell_type": "code",
   "execution_count": null,
   "id": "a14d28b9-6ff9-4206-ae94-4a969ac5183d",
   "metadata": {},
   "outputs": [],
   "source": [
    "# Test QTD total\n",
    "qtd_pre_aggregated[qtd_pre_aggregated[\"agg_key_name\"] == \"key_bu\"].groupby(\n",
    "    \"agg_key_value\"\n",
    ").agg({\"qtd_booked_net_arr\": \"sum\"})"
   ]
  },
  {
   "cell_type": "markdown",
   "id": "52025c13-f77f-49b4-81e8-bfbd26eb48f9",
   "metadata": {},
   "source": [
    "### Write to X-Ray source gSheet file"
   ]
  },
  {
   "cell_type": "code",
   "execution_count": null,
   "id": "f723d4fc",
   "metadata": {},
   "outputs": [],
   "source": [
    "# Write to GSheets\n",
    "sheet_id = \"1Vwu8euxRgIF3QYWK8hAbp4Vy21AlFfpDwI4MaEEiIWk\"\n",
    "sheet_name = \"jupyter_qtd_aggregated\"\n",
    "write_to_gsheets(sheet_id, sheet_name, qtd_pre_aggregated)"
   ]
  },
  {
   "cell_type": "markdown",
   "id": "cab7f41f-67d8-4c0b-ba15-47443beae471",
   "metadata": {},
   "source": [
    "# Historical QTR Coverages Data Extract"
   ]
  },
  {
   "cell_type": "code",
   "execution_count": null,
   "id": "81e188a3-851f-4837-967d-3fb30ec8c754",
   "metadata": {},
   "outputs": [],
   "source": [
    "# Write to GSheets\n",
    "sheet_id = \"1Vwu8euxRgIF3QYWK8hAbp4Vy21AlFfpDwI4MaEEiIWk\"\n",
    "sheet_name = \"jupyter_hist_qtr_aggregated\"\n",
    "write_to_gsheets(sheet_id, sheet_name, hist_qtr_metrics)"
   ]
  },
  {
   "cell_type": "markdown",
   "id": "22d30ce3-f5ab-434e-a1a8-8f93df3ee6b1",
   "metadata": {},
   "source": [
    "# Historical FY / N4Q Coverages Data Extract"
   ]
  },
  {
   "cell_type": "code",
   "execution_count": null,
   "id": "052f4d57-d323-4929-b2cb-1c1bc6799308",
   "metadata": {},
   "outputs": [],
   "source": [
    "# Write to GSheets\n",
    "sheet_id = \"1Vwu8euxRgIF3QYWK8hAbp4Vy21AlFfpDwI4MaEEiIWk\"\n",
    "sheet_name = \"jupyter_hist_fy_n4q_aggregated\"\n",
    "write_to_gsheets(sheet_id, sheet_name, hist_fy_n4q_metrics)"
   ]
  },
  {
   "cell_type": "markdown",
   "id": "16193695-40af-4e3e-a230-3081df510a0a",
   "metadata": {},
   "source": [
    "## Clari Forecast"
   ]
  },
  {
   "cell_type": "code",
   "execution_count": null,
   "id": "51e2d8ab-4ec6-48cc-9570-1b5b15b88fe1",
   "metadata": {},
   "outputs": [],
   "source": [
    "qtd_forecast = query_from_file(snowflake_engine, \"xr_forecast_update.sql\")"
   ]
  },
  {
   "cell_type": "code",
   "execution_count": null,
   "id": "64a586ba-dbc1-4ca8-b3ce-d09186e39ddc",
   "metadata": {},
   "outputs": [],
   "source": [
    "# Write to GSheets\n",
    "sheet_id = \"1uzeZLHv1n6LIAgKHfqANwKquQoJCTRKx4dXVpJXhKgk\"\n",
    "sheet_name = \"jupyter_clari_forecast\"\n",
    "write_to_gsheets(sheet_id, sheet_name, qtd_forecast)"
   ]
  },
  {
   "cell_type": "code",
   "execution_count": null,
   "id": "2f5f408a-2962-453f-9c89-624c42178a14",
   "metadata": {},
   "outputs": [],
   "source": []
  }
 ],
 "metadata": {
  "kernelspec": {
   "display_name": "Python 3 (ipykernel)",
   "language": "python",
   "name": "python3"
  },
  "language_info": {
   "codemirror_mode": {
    "name": "ipython",
    "version": 3
   },
   "file_extension": ".py",
   "mimetype": "text/x-python",
   "name": "python",
   "nbconvert_exporter": "python",
   "pygments_lexer": "ipython3",
   "version": "3.9.13"
  }
 },
 "nbformat": 4,
 "nbformat_minor": 5
}
