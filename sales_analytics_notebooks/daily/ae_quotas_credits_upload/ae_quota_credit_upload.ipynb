{
 "cells": [
  {
   "cell_type": "code",
   "execution_count": null,
   "id": "fb7eadbd-7adf-4c53-ac07-3c2dec095ff1",
   "metadata": {
    "tags": [
     "parameters"
    ]
   },
   "outputs": [],
   "source": [
    "# this is a parameter that will get overwritten when run by papermill on a schedules\n",
    "is_local_development = True"
   ]
  },
  {
   "cell_type": "code",
   "execution_count": null,
   "id": "40c27b8a",
   "metadata": {},
   "outputs": [],
   "source": [
    "!python -m pip install gitlabdata --upgrade"
   ]
  },
  {
   "cell_type": "code",
   "execution_count": null,
   "id": "edea41d9-b0a0-415d-998a-9e7c0f3b8312",
   "metadata": {},
   "outputs": [],
   "source": [
    "import configparser\n",
    "\n",
    "# import sys\n",
    "import pandas as pd\n",
    "from datetime import datetime\n",
    "import numpy as np\n",
    "import matplotlib.pyplot as plt\n",
    "from datetime import date\n",
    "import json, os\n",
    "from pyprojroot import here\n",
    "from os import environ as env\n",
    "import re"
   ]
  },
  {
   "cell_type": "code",
   "execution_count": null,
   "id": "4ca065e8-5fc5-409a-a428-5eb2d9e3ad72",
   "metadata": {},
   "outputs": [],
   "source": [
    "from gitlabdata.orchestration_utils import (\n",
    "    data_science_engine_factory,\n",
    "    query_dataframe,\n",
    "    snowflake_engine_factory,\n",
    "    snowflake_stage_load_copy_remove,\n",
    "    get_env_from_profile,\n",
    "    dataframe_uploader,\n",
    "    write_to_gsheets,\n",
    "    read_from_gsheets,\n",
    "    query_executor,\n",
    "    query_from_file,\n",
    ")"
   ]
  },
  {
   "attachments": {},
   "cell_type": "markdown",
   "id": "5a898e93-3838-4401-842e-320b4336557a",
   "metadata": {},
   "source": [
    "## Create Snowflake engine"
   ]
  },
  {
   "cell_type": "code",
   "execution_count": null,
   "id": "859777a1-99e7-42a1-a2eb-a895ba919c32",
   "metadata": {},
   "outputs": [],
   "source": [
    "# engine factory can be created using a local role from output\n",
    "# depending on this notebook being run locally or remotely, the\n",
    "# engine is creation process is different\n",
    "\n",
    "if is_local_development:\n",
    "    snowflake_engine = data_science_engine_factory(\n",
    "        profile_target=\"sales_analytics_local\"\n",
    "    )\n",
    "else:\n",
    "    snowflake_engine = snowflake_engine_factory(env, \"SALES_ANALYTICS\")\n",
    "\n",
    "    raw_db_name = env[\"SNOWFLAKE_LOAD_DATABASE\"]\n",
    "    prod_db_name = env[\"SNOWFLAKE_PROD_DATABASE\"]\n",
    "\n",
    "snowflake_engine"
   ]
  },
  {
   "attachments": {},
   "cell_type": "markdown",
   "id": "4516078d-439b-4276-bef1-53ace391225a",
   "metadata": {
    "tags": []
   },
   "source": [
    "## Credentials for Gsheet manipulation\n",
    "\n",
    "Remember to give access to the following two users:\n",
    "\n",
    "- Data Team runner: data-team-sheets-sa@gitlab-analysis.iam.gserviceaccount.com\n",
    "- Sales Strategy service account: service-revenue-strat-analytic@revenue-strategy-anal-411d5a72.iam.gserviceaccount.com"
   ]
  },
  {
   "cell_type": "code",
   "execution_count": null,
   "id": "54ec218f-85cf-4ec3-92e2-012799c81475",
   "metadata": {},
   "outputs": [],
   "source": [
    "# read the credentials of the google service account\n",
    "if is_local_development:\n",
    "    credentials_path = here(\"credentials/rsa_gcloud_service_account.json\")\n",
    "    # credentials_path = here(\"credentials/gsheet_service_file.json\")\n",
    "\n",
    "    with open(credentials_path) as f:\n",
    "        service_account_credentials = f.read().replace(\"\\n\", \"\")\n",
    "\n",
    "    # set the credential as a enviroment variable\n",
    "    os.environ[\"GSHEETS_SERVICE_ACCOUNT_CREDENTIALS\"] = service_account_credentials"
   ]
  },
  {
   "attachments": {},
   "cell_type": "markdown",
   "id": "eccb2b25-72c0-4b5d-812e-59cbcf16bc40",
   "metadata": {},
   "source": [
    "# AE Quota and Credit upload process\n",
    "\n",
    "This notebook is run daily to upload credits and quotas for AEs.\n",
    "\n",
    "* The Quotas are maintained by @hselim.\n",
    "* The AE credits are captured from an Xactly upload maintained by @hselim.\n",
    "\n",
    "The source gsheet document is the (following one)[https://docs.google.com/spreadsheets/d/1Cvs2IfMEiY-mGJ07F5r6sBwUIl9AXqlsISkfJG2iLHk/edit#gid=896147171]"
   ]
  },
  {
   "attachments": {},
   "cell_type": "markdown",
   "id": "81b356fa-3547-4608-a852-52ff741c6e91",
   "metadata": {
    "tags": []
   },
   "source": [
    "## Read Quota gSheet data"
   ]
  },
  {
   "cell_type": "code",
   "execution_count": null,
   "id": "5d611210",
   "metadata": {},
   "outputs": [],
   "source": [
    "# Read from GSheets\n",
    "sheet_id = \"1Cvs2IfMEiY-mGJ07F5r6sBwUIl9AXqlsISkfJG2iLHk\"\n",
    "sheet_name = \"quotas\"\n",
    "quotas_df = read_from_gsheets(sheet_id, sheet_name)"
   ]
  },
  {
   "cell_type": "code",
   "execution_count": null,
   "id": "690e8ade-f486-43d0-9bdd-3222bb3fc120",
   "metadata": {},
   "outputs": [],
   "source": [
    "quotas_df.columns\n",
    "\n",
    "period_fields = ['FY24', 'H1-FY24', 'Q1-FY24', 'Feb-23', 'Mar-23', 'Apr-23', 'Q2-FY24',\n",
    "       'May-23', 'Jun-23', 'Jul-23', 'H2-FY24', 'Q3-FY24', 'Aug-23', 'Sep-23',\n",
    "       'Oct-23', 'Q4-FY24', 'Nov-23', 'Dec-23', 'Jan-24', \n",
    "       'Q1-FY25', 'Q2-FY25', 'Q3-FY25', 'Q4-FY25']\n",
    "\n",
    "desc_fields = ['Comp Design', 'Employee ID', 'Start Date',\n",
    "       'Quota Effective Start Date', 'Name', 'Region', 'Role', 'HC Type',\n",
    "       'Role Type', 'GHP ID', 'Manager', 'Area', 'Territory', 'Quota Type','CSM Pool','Ramp Status']\n",
    "    "
   ]
  },
  {
   "attachments": {},
   "cell_type": "markdown",
   "id": "731cde97-b2d9-41e5-a6ab-50b5e988cd1d",
   "metadata": {},
   "source": [
    "### Store in Snowflake unpivoted version"
   ]
  },
  {
   "cell_type": "code",
   "execution_count": null,
   "id": "19093b93-7749-4d51-a7ab-6d6b52c6f3f7",
   "metadata": {},
   "outputs": [],
   "source": [
    "%%time \n",
    "# upload to database\n",
    "print(len(to_gsheet))\n",
    "\n",
    "target_fields = ['Employee ID','Name','Start Date'] + ['Q1-FY24','Q2-FY24','Q3-FY24', 'Q4-FY24', 'FY24', \n",
    "       'Q1-FY25', 'Q2-FY25', 'Q3-FY25', 'Q4-FY25']\n",
    "\n",
    "index = quotas_df['Quota Type'] == 'Carried Net ARR Quota'\n",
    "\n",
    "to_gsheet = quotas_df[index][target_fields].copy()\n",
    "to_gsheet.columns = [\"employee_id\",\"name\",\"start_date\",\"cfy_q1\",\"cfy_q2\",\"cfy_q3\",\"cfy_q4\",\"cfy_total\",\"nfy_q1\",\"nfy_q2\",\"nfy_q3\",\"nfy_q4\"]\n",
    "\n",
    "to_gsheet['cfy_q1'] = pd.to_numeric(to_gsheet['cfy_q1'])\n",
    "to_gsheet['cfy_q2'] = pd.to_numeric(to_gsheet['cfy_q2'])\n",
    "to_gsheet['cfy_q3'] = pd.to_numeric(to_gsheet['cfy_q3'])\n",
    "to_gsheet['cfy_q4'] = pd.to_numeric(to_gsheet['cfy_q4'])\n",
    "\n",
    "to_gsheet['nfy_q1'] = pd.to_numeric(to_gsheet['nfy_q1'])\n",
    "to_gsheet['nfy_q2'] = pd.to_numeric(to_gsheet['nfy_q2'])\n",
    "to_gsheet['nfy_q3'] = pd.to_numeric(to_gsheet['nfy_q3'])\n",
    "to_gsheet['nfy_q4'] = pd.to_numeric(to_gsheet['nfy_q4'])\n",
    "\n",
    "to_gsheet['cfy_total'] = pd.to_numeric(to_gsheet['cfy_total'])\n",
    "to_gsheet[\"employee_id\"] = to_gsheet[\"employee_id\"].astype(str)\n",
    "\n",
    "to_gsheet.fillna(0,inplace=True)\n",
    "\n",
    "table_name = \"ae_quotas_unpivoted\"\n",
    "schema = \"SALES_ANALYTICS\"\n",
    "dataframe_uploader(\n",
    "    dataframe=to_gsheet,\n",
    "    engine=snowflake_engine,\n",
    "    table_name=table_name,\n",
    "    schema=schema,\n",
    "    if_exists=\"replace\",\n",
    "    add_uploaded_at=False,\n",
    ")"
   ]
  },
  {
   "attachments": {},
   "cell_type": "markdown",
   "id": "dce89005-6efc-48f6-9821-0f8721f57365",
   "metadata": {},
   "source": [
    "## Read Credit gSheet extract"
   ]
  },
  {
   "cell_type": "code",
   "execution_count": null,
   "id": "4aec5e07-c864-46b2-8939-cd962ac1de7c",
   "metadata": {},
   "outputs": [],
   "source": [
    "# Read from GSheets\n",
    "sheet_id = \"1Cvs2IfMEiY-mGJ07F5r6sBwUIl9AXqlsISkfJG2iLHk\"\n",
    "sheet_name = \"credit\"\n",
    "credit_df = read_from_gsheets(sheet_id, sheet_name)"
   ]
  },
  {
   "attachments": {},
   "cell_type": "markdown",
   "id": "1c365c21-201e-4328-8ed6-0a97515f7193",
   "metadata": {},
   "source": [
    "## Save Quotas into Snowflake"
   ]
  },
  {
   "cell_type": "code",
   "execution_count": null,
   "id": "f854d130-865f-4d7d-a9b2-4b3665902744",
   "metadata": {},
   "outputs": [],
   "source": [
    "%%time \n",
    "# upload to database\n",
    "print(len(credit_df))\n",
    "\n",
    "table_name = \"ae_credits\"\n",
    "schema = \"SALES_ANALYTICS\"\n",
    "dataframe_uploader(\n",
    "    dataframe=credit_df.head(),\n",
    "    engine=snowflake_engine,\n",
    "    table_name=table_name,\n",
    "    schema=schema,\n",
    "    if_exists=\"replace\",\n",
    "    add_uploaded_at=True,\n",
    ")"
   ]
  },
  {
   "attachments": {},
   "cell_type": "markdown",
   "id": "fa2bd40c-7a97-46b6-9ed5-a0b80946d7ff",
   "metadata": {},
   "source": [
    "# Process Quotas Unpivoted version"
   ]
  },
  {
   "cell_type": "code",
   "execution_count": null,
   "id": "aa18d709-bbb8-4f65-b6e4-1cd8eb24039c",
   "metadata": {},
   "outputs": [],
   "source": [
    "#\n",
    "# Identify the type of period and compliment the tall table\n",
    "#\n",
    "def type_of_period(period_name):\n",
    "    result = None\n",
    "    # fiscal year\n",
    "    if re.match(r\"^FY[2-3][0-9]\", period_name):\n",
    "        result = 'Fiscal Year'\n",
    "    elif re.match(r\"^(Q)[1-4]-FY[2-3][0-9]\", period_name):\n",
    "        result = 'Fiscal Quarter'\n",
    "    elif re.match(r\"^(H)[1-2]-FY[2-3][0-9]\", period_name):\n",
    "        result = 'Half Fiscal Year'\n",
    "    elif re.match(r\"^([a-zA-Z]{3})-[2-3][0-9]\", period_name):\n",
    "        result = 'Month'\n",
    "    else:\n",
    "        None\n",
    "    return result\n",
    "\n",
    "# test\n",
    "print(type_of_period('FY24'))    "
   ]
  },
  {
   "cell_type": "code",
   "execution_count": null,
   "id": "46451f0f-a0e7-43f8-a4e0-c3b584810e1b",
   "metadata": {},
   "outputs": [],
   "source": [
    "# Turn the table from a long table to a tall one\n",
    "melted_df = pd.melt(quotas_df,id_vars=desc_fields,value_vars=period_fields)\n",
    "melted_df.rename(columns={'variable':'period'},inplace=True)\n",
    "melted_df.columns = melted_df.columns.str.lower()\n",
    "# retrieve the period type\n",
    "melted_df['period_type'] = melted_df['period'].apply(type_of_period)\n",
    "\n",
    "# set up column types, this gives errors if not handled correctly\n",
    "# it tends to take the fields as numerics when they are strings\n",
    "melted_df['value'] = pd.to_numeric(melted_df['value'])\n",
    "melted_df['ghp id'] = melted_df['ghp id'].astype(str)\n",
    "melted_df['employee id'] = melted_df['employee id'].astype(str)\n",
    "\n",
    "melted_df.dropna(subset=['value'],inplace=True)\n",
    "melted_df.head()"
   ]
  },
  {
   "attachments": {},
   "cell_type": "markdown",
   "id": "ed63c322-da8c-492c-9363-8dba7c533521",
   "metadata": {},
   "source": [
    "### Save Tall Format Quotas into Snowflake\n",
    "\n",
    "This process is giving problems and cannot be run locally"
   ]
  },
  {
   "cell_type": "code",
   "execution_count": null,
   "id": "32b2b176-f47a-4baa-8166-f804f3a02825",
   "metadata": {},
   "outputs": [],
   "source": [
    "%%time \n",
    "# upload to database\n",
    "print(len(melted_df))\n",
    "\n",
    "target_columns = ['comp design', 'employee id', 'quota type',\n",
    "        'period_type','period', 'value' ]\n",
    "\n",
    "# avoid running the whole process\n",
    "if not is_local_development:\n",
    "\n",
    "    to_upload = melted_df[target_columns].copy()\n",
    "\n",
    "    table_name = \"ae_quotas\"\n",
    "    schema = \"SALES_ANALYTICS\"\n",
    "    dataframe_uploader(\n",
    "        dataframe=to_upload,\n",
    "        engine=snowflake_engine,\n",
    "        table_name=table_name,\n",
    "        schema=schema,\n",
    "        if_exists=\"replace\",\n",
    "        add_uploaded_at=False,\n",
    "    )"
   ]
  },
  {
   "cell_type": "code",
   "execution_count": null,
   "id": "71562353-7d1f-4009-85b0-dc913fc0b1ce",
   "metadata": {},
   "outputs": [],
   "source": []
  }
 ],
 "metadata": {
  "kernelspec": {
   "display_name": "Python 3 (ipykernel)",
   "language": "python",
   "name": "python3"
  },
  "language_info": {
   "codemirror_mode": {
    "name": "ipython",
    "version": 3
   },
   "file_extension": ".py",
   "mimetype": "text/x-python",
   "name": "python",
   "nbconvert_exporter": "python",
   "pygments_lexer": "ipython3",
   "version": "3.8.8"
  }
 },
 "nbformat": 4,
 "nbformat_minor": 5
}
