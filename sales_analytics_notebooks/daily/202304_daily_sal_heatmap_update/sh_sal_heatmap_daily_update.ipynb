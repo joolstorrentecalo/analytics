{
 "cells": [
  {
   "cell_type": "code",
   "execution_count": null,
   "id": "fb7eadbd-7adf-4c53-ac07-3c2dec095ff1",
   "metadata": {
    "tags": [
     "parameters"
    ]
   },
   "outputs": [],
   "source": [
    "# this is a parameter that will get overwritten when run by papermill on a schedules\n",
    "is_local_development = True"
   ]
  },
  {
   "cell_type": "code",
   "execution_count": null,
   "id": "40c27b8a",
   "metadata": {},
   "outputs": [],
   "source": [
    "!python -m pip install gitlabdata==0.3.29"
   ]
  },
  {
   "cell_type": "code",
   "execution_count": null,
   "id": "f1aa4a4d-fe9d-447f-84c7-d0f88c340bb6",
   "metadata": {},
   "outputs": [],
   "source": [
    "!python -m pip install pyprojroot"
   ]
  },
  {
   "cell_type": "code",
   "execution_count": null,
   "id": "edea41d9-b0a0-415d-998a-9e7c0f3b8312",
   "metadata": {},
   "outputs": [],
   "source": [
    "import configparser\n",
    "\n",
    "# import sys\n",
    "import pandas as pd\n",
    "from datetime import datetime\n",
    "import numpy as np\n",
    "import matplotlib.pyplot as plt\n",
    "from datetime import date\n",
    "import json, os\n",
    "from pyprojroot import here\n",
    "from os import environ as env"
   ]
  },
  {
   "cell_type": "code",
   "execution_count": null,
   "id": "4ca065e8-5fc5-409a-a428-5eb2d9e3ad72",
   "metadata": {},
   "outputs": [],
   "source": [
    "from gitlabdata.orchestration_utils import (\n",
    "    data_science_engine_factory,\n",
    "    query_dataframe,\n",
    "    snowflake_engine_factory,\n",
    "    snowflake_stage_load_copy_remove,\n",
    "    get_env_from_profile,\n",
    "    dataframe_uploader,\n",
    "    write_to_gsheets,\n",
    "    read_from_gsheets,\n",
    "    query_executor,\n",
    "    query_from_file,\n",
    ")"
   ]
  },
  {
   "cell_type": "markdown",
   "id": "5a898e93-3838-4401-842e-320b4336557a",
   "metadata": {},
   "source": [
    "## Create Snowflake engine"
   ]
  },
  {
   "cell_type": "code",
   "execution_count": null,
   "id": "859777a1-99e7-42a1-a2eb-a895ba919c32",
   "metadata": {},
   "outputs": [],
   "source": [
    "# engine factory can be created using a local role from output\n",
    "# depending on this notebook being run locally or remotely, the\n",
    "# engine is creation process is different\n",
    "\n",
    "if is_local_development:\n",
    "    snowflake_engine = data_science_engine_factory(\n",
    "        profile_target=\"sales_analytics_local\"\n",
    "    )\n",
    "else:\n",
    "    snowflake_engine = snowflake_engine_factory(env, \"SALES_ANALYTICS\")\n",
    "\n",
    "    raw_db_name = env[\"SNOWFLAKE_LOAD_DATABASE\"]\n",
    "    prod_db_name = env[\"SNOWFLAKE_PROD_DATABASE\"]\n",
    "\n",
    "snowflake_engine"
   ]
  },
  {
   "cell_type": "markdown",
   "id": "4516078d-439b-4276-bef1-53ace391225a",
   "metadata": {
    "tags": []
   },
   "source": [
    "## Credentials for Gsheet manipulation\n",
    "\n",
    "Remember to give access to the following two users:\n",
    "\n",
    "- Data Team runner: data-team-sheets-sa@gitlab-analysis.iam.gserviceaccount.com\n",
    "- Sales Strategy service account: service-revenue-strat-analytic@revenue-strategy-anal-411d5a72.iam.gserviceaccount.com"
   ]
  },
  {
   "cell_type": "code",
   "execution_count": null,
   "id": "54ec218f-85cf-4ec3-92e2-012799c81475",
   "metadata": {},
   "outputs": [],
   "source": [
    "# read the credentials of the google service account\n",
    "if is_local_development:\n",
    "    credentials_path = here(\"credentials/rsa_gcloud_service_account.json\")\n",
    "    # credentials_path = here(\"credentials/gsheet_service_file.json\")\n",
    "\n",
    "    with open(credentials_path) as f:\n",
    "        service_account_credentials = f.read().replace(\"\\n\", \"\")\n",
    "\n",
    "    # set the credential as a enviroment variable\n",
    "    os.environ[\"GSHEETS_SERVICE_ACCOUNT_CREDENTIALS\"] = service_account_credentials"
   ]
  },
  {
   "cell_type": "markdown",
   "id": "eccb2b25-72c0-4b5d-812e-59cbcf16bc40",
   "metadata": {},
   "source": [
    "# SAL Heatmap daily ETL update process\n",
    "\n",
    "This notebook is run daily to update the SAL Heatmap source file. \n",
    "\n",
    "The process is responsible of updating the following datasets:\n",
    "\n",
    "1. QTD SAL Extracts\n",
    "2. Quotas\n",
    "3. Regional Hist Coverages"
   ]
  },
  {
   "cell_type": "code",
   "execution_count": null,
   "id": "5f865d91-3b91-45d1-9379-85497607e07f",
   "metadata": {},
   "outputs": [],
   "source": [
    "# SOURCE SAL Heatmap Sheet ID\n",
    "SOURCE_GSHEET_ID = \"1Ufh2DKwTq25IHzZeaCo0bFyQcFNvCtC3bVnR3oOZz-g\""
   ]
  },
  {
   "cell_type": "markdown",
   "id": "81b356fa-3547-4608-a852-52ff741c6e91",
   "metadata": {
    "tags": []
   },
   "source": [
    "## Excute Snowflake query"
   ]
  },
  {
   "cell_type": "code",
   "execution_count": null,
   "id": "5d611210",
   "metadata": {},
   "outputs": [],
   "source": [
    "# QTD metrics\n",
    "qtd_metrics = query_from_file(snowflake_engine, \"sh_qtd_metrics_for_sal_heatmap.sql\")\n",
    "qtd_metrics[\"last_extracted_etl\"] = date.today()"
   ]
  },
  {
   "cell_type": "code",
   "execution_count": null,
   "id": "bc9bfa9f-0120-4c34-af91-0d03861ac582",
   "metadata": {},
   "outputs": [],
   "source": [
    "# Test\n",
    "qtd_metrics.qtd_booked_net_arr.sum()"
   ]
  },
  {
   "cell_type": "code",
   "execution_count": null,
   "id": "eaa7a645-677e-4841-a79b-fe5c9366f640",
   "metadata": {},
   "outputs": [],
   "source": [
    "# Historical coverages\n",
    "hist_coverage = query_from_file(\n",
    "    snowflake_engine, \"sh_hist_qtr_coverages_for_sal_heatmap.sql\"\n",
    ")\n",
    "hist_coverage[\"last_extracted_etl\"] = date.today()"
   ]
  },
  {
   "cell_type": "code",
   "execution_count": null,
   "id": "040b9299-d65a-4bad-81d9-78ba369f17ad",
   "metadata": {},
   "outputs": [],
   "source": [
    "# Quotas\n",
    "# NF 20230531 The Xactly version of the quota capture doesn't work\n",
    "# potentially data is not correct in Xactly\n",
    "# fy24_quota = query_from_file(snowflake_engine, \"sh_xactly_fy24_quotas.sql\")\n",
    "\n",
    "# NF 20230531 The table in this query is uploaded from a raw gsheet maintained by Haseem and\n",
    "# uploaded into the raw sales analytics table\n",
    "fy24_quota = query_from_file(snowflake_engine, \"sh_raw_fy24_quotas.sql\")\n",
    "fy24_quota[\"last_extracted_etl\"] = date.today()"
   ]
  },
  {
   "cell_type": "code",
   "execution_count": null,
   "id": "59c642f7-3d92-474e-b534-024b3302167d",
   "metadata": {},
   "outputs": [],
   "source": [
    "# Test\n",
    "fy24_quota.cfy_total.sum()"
   ]
  },
  {
   "cell_type": "code",
   "execution_count": null,
   "id": "b4cc29b6-abf0-4f9d-9fb7-4f9e4bc16439",
   "metadata": {},
   "outputs": [],
   "source": [
    "# Employee ID\n",
    "empl_list = query_from_file(snowflake_engine, \"sh_empid_list.sql\")\n",
    "empl_list[\"last_extracted_etl\"] = date.today()"
   ]
  },
  {
   "cell_type": "markdown",
   "id": "eed27c40-f8c9-47ab-990d-ef7f47d2b0a6",
   "metadata": {},
   "source": [
    "## QTD Metrics Extracts"
   ]
  },
  {
   "cell_type": "markdown",
   "id": "52025c13-f77f-49b4-81e8-bfbd26eb48f9",
   "metadata": {},
   "source": [
    "### Write to SAL HEatmap source gSheet file"
   ]
  },
  {
   "cell_type": "code",
   "execution_count": null,
   "id": "f723d4fc",
   "metadata": {},
   "outputs": [],
   "source": [
    "# Write to GSheets\n",
    "sheet_id = SOURCE_GSHEET_ID\n",
    "sheet_name = \"jupyter_qtd_sal\"\n",
    "qtd_metrics.columns = qtd_metrics.columns.str.upper()\n",
    "write_to_gsheets(sheet_id, sheet_name, qtd_metrics)"
   ]
  },
  {
   "cell_type": "markdown",
   "id": "cab7f41f-67d8-4c0b-ba15-47443beae471",
   "metadata": {},
   "source": [
    "## Historical QTR Coverages Data Extract"
   ]
  },
  {
   "cell_type": "code",
   "execution_count": null,
   "id": "81e188a3-851f-4837-967d-3fb30ec8c754",
   "metadata": {},
   "outputs": [],
   "source": [
    "# Write to GSheets\n",
    "sheet_id = SOURCE_GSHEET_ID\n",
    "sheet_name = \"jupyter_hist_qtr_aggregated\"\n",
    "hist_coverage.columns = hist_coverage.columns.str.upper()\n",
    "write_to_gsheets(sheet_id, sheet_name, hist_coverage)"
   ]
  },
  {
   "cell_type": "markdown",
   "id": "e27cb822-bb71-40c4-85ea-fc385f59917d",
   "metadata": {},
   "source": [
    "## FY24 Quota"
   ]
  },
  {
   "cell_type": "code",
   "execution_count": null,
   "id": "5820cf49-bfa5-43ab-ae0c-b85b9d13f349",
   "metadata": {},
   "outputs": [],
   "source": [
    "# Write to GSheets\n",
    "sheet_id = \"1Pa3bh2wp1mPCtln0_3mH-r627IEJA5yofAFAir_kvBo\"\n",
    "sheet_name = \"jupyter_fy_quota\"\n",
    "write_to_gsheets(sheet_id, sheet_name, fy24_quota)"
   ]
  },
  {
   "cell_type": "markdown",
   "id": "7e0d810a-16f7-446b-88a5-c5a98027dd22",
   "metadata": {},
   "source": [
    "## Employee List "
   ]
  },
  {
   "cell_type": "code",
   "execution_count": null,
   "id": "d951d06f-c9ce-4ce4-a02a-a6b5b37464d1",
   "metadata": {},
   "outputs": [],
   "source": [
    "# Write to GSheets\n",
    "sheet_id = SOURCE_GSHEET_ID\n",
    "sheet_name = \"jupyter_empl_id\"\n",
    "write_to_gsheets(sheet_id, sheet_name, empl_list)"
   ]
  },
  {
   "cell_type": "markdown",
   "id": "e9d61acd-b099-4ffc-853d-624524ddee01",
   "metadata": {},
   "source": [
    "## Clari Forecast"
   ]
  },
  {
   "cell_type": "code",
   "execution_count": null,
   "id": "3714354c-9fca-425d-9a3c-ef870bda31da",
   "metadata": {},
   "outputs": [],
   "source": [
    "# Execute clari forecast\n",
    "clari_forecast = query_from_file(snowflake_engine, \"sh_forecast_update.sql\")\n",
    "clari_forecast[\"last_extracted_etl\"] = date.today()"
   ]
  },
  {
   "cell_type": "code",
   "execution_count": null,
   "id": "b9f799e8-0e97-40a9-b6e5-bd876339b79b",
   "metadata": {},
   "outputs": [],
   "source": [
    "# Write to GSheets\n",
    "sheet_id = SOURCE_GSHEET_ID\n",
    "sheet_name = \"jupyter_clari_forecast\"\n",
    "write_to_gsheets(sheet_id, sheet_name, clari_forecast)"
   ]
  },
  {
   "cell_type": "code",
   "execution_count": null,
   "id": "d4d58cb9-e769-4515-9e26-d5a9daccbbc6",
   "metadata": {},
   "outputs": [],
   "source": []
  },
  {
   "cell_type": "code",
   "execution_count": null,
   "id": "e62e5449-af96-4b00-a58a-b39d07809e9e",
   "metadata": {},
   "outputs": [],
   "source": []
  }
 ],
 "metadata": {
  "kernelspec": {
   "display_name": "Python 3 (ipykernel)",
   "language": "python",
   "name": "python3"
  },
  "language_info": {
   "codemirror_mode": {
    "name": "ipython",
    "version": 3
   },
   "file_extension": ".py",
   "mimetype": "text/x-python",
   "name": "python",
   "nbconvert_exporter": "python",
   "pygments_lexer": "ipython3",
   "version": "3.9.13"
  }
 },
 "nbformat": 4,
 "nbformat_minor": 5
}
