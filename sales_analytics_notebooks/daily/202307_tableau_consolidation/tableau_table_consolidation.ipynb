{
 "cells": [
  {
   "cell_type": "code",
   "execution_count": null,
   "id": "fb7eadbd-7adf-4c53-ac07-3c2dec095ff1",
   "metadata": {
    "tags": [
     "parameters"
    ]
   },
   "outputs": [],
   "source": [
    "# this is a parameter that will get overwritten when run by papermill on a schedules\n",
    "is_local_development = True"
   ]
  },
  {
   "cell_type": "code",
   "execution_count": null,
   "id": "40c27b8a",
   "metadata": {},
   "outputs": [],
   "source": [
    "!python -m pip install gitlabdata --upgrade"
   ]
  },
  {
   "cell_type": "code",
   "execution_count": null,
   "id": "edea41d9-b0a0-415d-998a-9e7c0f3b8312",
   "metadata": {},
   "outputs": [],
   "source": [
    "import configparser\n",
    "\n",
    "# import sys\n",
    "import pandas as pd\n",
    "from datetime import datetime\n",
    "import numpy as np\n",
    "import matplotlib.pyplot as plt\n",
    "from datetime import date\n",
    "import json, os\n",
    "from pyprojroot import here\n",
    "from os import environ as env\n",
    "import re"
   ]
  },
  {
   "cell_type": "code",
   "execution_count": null,
   "id": "4ca065e8-5fc5-409a-a428-5eb2d9e3ad72",
   "metadata": {},
   "outputs": [],
   "source": [
    "from gitlabdata.orchestration_utils import (\n",
    "    data_science_engine_factory,\n",
    "    query_dataframe,\n",
    "    snowflake_engine_factory,\n",
    "    snowflake_stage_load_copy_remove,\n",
    "    get_env_from_profile,\n",
    "    dataframe_uploader,\n",
    "    write_to_gsheets,\n",
    "    read_from_gsheets,\n",
    "    query_executor,\n",
    "    query_from_file,\n",
    ")"
   ]
  },
  {
   "cell_type": "markdown",
   "id": "5a898e93-3838-4401-842e-320b4336557a",
   "metadata": {},
   "source": [
    "## Create Snowflake engine"
   ]
  },
  {
   "cell_type": "code",
   "execution_count": null,
   "id": "859777a1-99e7-42a1-a2eb-a895ba919c32",
   "metadata": {},
   "outputs": [],
   "source": [
    "# engine factory can be created using a local role from output\n",
    "# depending on this notebook being run locally or remotely, the\n",
    "# engine is creation process is different\n",
    "\n",
    "if is_local_development:\n",
    "    snowflake_engine = data_science_engine_factory(\n",
    "        profile_target=\"sales_analytics_local\"\n",
    "    )\n",
    "else:\n",
    "    snowflake_engine = snowflake_engine_factory(env, \"SALES_ANALYTICS\")\n",
    "\n",
    "    raw_db_name = env[\"SNOWFLAKE_LOAD_DATABASE\"]\n",
    "    prod_db_name = env[\"SNOWFLAKE_PROD_DATABASE\"]\n",
    "\n",
    "snowflake_engine"
   ]
  },
  {
   "cell_type": "markdown",
   "id": "4516078d-439b-4276-bef1-53ace391225a",
   "metadata": {
    "tags": []
   },
   "source": [
    "## Credentials for Gsheet manipulation\n",
    "\n",
    "Remember to give access to the following two users:\n",
    "\n",
    "- Data Team runner: data-team-sheets-sa@gitlab-analysis.iam.gserviceaccount.com\n",
    "- Sales Strategy service account: service-revenue-strat-analytic@revenue-strategy-anal-411d5a72.iam.gserviceaccount.com"
   ]
  },
  {
   "cell_type": "code",
   "execution_count": null,
   "id": "54ec218f-85cf-4ec3-92e2-012799c81475",
   "metadata": {},
   "outputs": [],
   "source": [
    "# read the credentials of the google service account\n",
    "if is_local_development:\n",
    "    credentials_path = here(\"credentials/rsa_gcloud_service_account.json\")\n",
    "    # credentials_path = here(\"credentials/gsheet_service_file.json\")\n",
    "\n",
    "    with open(credentials_path) as f:\n",
    "        service_account_credentials = f.read().replace(\"\\n\", \"\")\n",
    "\n",
    "    # set the credential as a enviroment variable\n",
    "    os.environ[\"GSHEETS_SERVICE_ACCOUNT_CREDENTIALS\"] = service_account_credentials"
   ]
  },
  {
   "cell_type": "markdown",
   "id": "eccb2b25-72c0-4b5d-812e-59cbcf16bc40",
   "metadata": {},
   "source": [
    "# Tableau ASM consolidation script\n",
    "\n",
    "The goal of this notebook is to collect multiple different datasets and stack them in a tall table that can be easier to access from Tableau."
   ]
  },
  {
   "cell_type": "markdown",
   "id": "dce89005-6efc-48f6-9821-0f8721f57365",
   "metadata": {},
   "source": [
    "## Load Snowflake data\n",
    "\n",
    "- Opportunity aggregated / detail\n",
    "- Opportunity snapshot aggregated"
   ]
  },
  {
   "cell_type": "code",
   "execution_count": null,
   "id": "4aec5e07-c864-46b2-8939-cd962ac1de7c",
   "metadata": {},
   "outputs": [],
   "source": [
    "# live opportunity detail\n",
    "detail_opty = query_from_file(snowflake_engine, \"tableau_asm_opportunity_detail.sql\")\n",
    "detail_opty[\"last_extracted_etl\"] = date.today()\n",
    "\n",
    "detail_opty[\"record_type\"] = \"opportunity detail\""
   ]
  },
  {
   "cell_type": "code",
   "execution_count": null,
   "id": "a9a54172-971a-4800-88de-feb8e68bd32f",
   "metadata": {},
   "outputs": [],
   "source": [
    "# live opportunity agg\n",
    "agg_opty = query_from_file(snowflake_engine, \"tableau_asm_opportunity_agg.sql\")\n",
    "agg_opty[\"last_extracted_etl\"] = date.today()\n",
    "\n",
    "agg_opty[\"record_type\"] = \"net arr aggregated\""
   ]
  },
  {
   "cell_type": "code",
   "execution_count": null,
   "id": "3efaf643-7cfe-4751-8acb-be2d2037054c",
   "metadata": {},
   "outputs": [],
   "source": [
    "# snapshot opportunity agg\n",
    "snap_opty = query_from_file(\n",
    "    snowflake_engine, \"tableau_asm_opportunity_snap_open_closed_agg.sql\"\n",
    ")\n",
    "snap_opty[\"last_extracted_etl\"] = date.today()\n",
    "snap_opty[\"record_type\"] = \"opportunity snapshot cq open closed agg\""
   ]
  },
  {
   "cell_type": "code",
   "execution_count": null,
   "id": "6b64cfbd-c20c-4add-82dd-97ed86fbbc17",
   "metadata": {},
   "outputs": [],
   "source": [
    "# snapshot opportunity agg\n",
    "snap_cq1_opty = query_from_file(\n",
    "    snowflake_engine, \"tableau_asm_opportunity_snap_open_cq_plus_1_agg.sql\"\n",
    ")\n",
    "snap_cq1_opty[\"last_extracted_etl\"] = date.today()\n",
    "snap_cq1_opty[\"record_type\"] = \"opportunity snapshot cq plus 1 open agg\""
   ]
  },
  {
   "cell_type": "code",
   "execution_count": null,
   "id": "d88a5e44-764d-4f2a-945e-a27fbbd3389d",
   "metadata": {},
   "outputs": [],
   "source": [
    "# snapshot opportunity agg\n",
    "snap_cq2_opty = query_from_file(\n",
    "    snowflake_engine, \"tableau_asm_opportunity_snap_open_cq_plus_2_agg.sql\"\n",
    ")\n",
    "snap_cq2_opty[\"last_extracted_etl\"] = date.today()\n",
    "snap_cq2_opty[\"record_type\"] = \"opportunity snapshot cq plus 2 open agg\""
   ]
  },
  {
   "cell_type": "code",
   "execution_count": null,
   "id": "2b84e1e0-f6fc-4cf8-bcb5-cff314fe6fa2",
   "metadata": {},
   "outputs": [],
   "source": [
    "# pipe gen aggregated live\n",
    "pipe_gen_agg_opty = query_from_file(\n",
    "    snowflake_engine, \"tableau_asm_opportunity_pipe_gen_agg_live.sql\"\n",
    ")\n",
    "pipe_gen_agg_opty[\"last_extracted_etl\"] = date.today()\n",
    "pipe_gen_agg_opty[\"record_type\"] = \"pipe gen live agg narr\""
   ]
  },
  {
   "cell_type": "code",
   "execution_count": null,
   "id": "440f22ca-394c-46a6-821b-4ec689c1bb39",
   "metadata": {},
   "outputs": [],
   "source": [
    "# pipe gen snap aggregated same quarter day\n",
    "pipe_gen_snap_opty = query_from_file(\n",
    "    snowflake_engine, \"tableau_asm_opportunity_pipe_gen_snap_same_day.sql\"\n",
    ")\n",
    "pipe_gen_snap_opty[\"last_extracted_etl\"] = date.today()\n",
    "pipe_gen_snap_opty[\"record_type\"] = \"pipe gen snap same day narr\""
   ]
  },
  {
   "cell_type": "code",
   "execution_count": null,
   "id": "8da7c365-0d3c-4108-853d-2b37d08b9e99",
   "metadata": {},
   "outputs": [],
   "source": [
    "# pipe gen snaphot quarter end aggregated\n",
    "pipe_gen_snap_qend_opty = query_from_file(\n",
    "    snowflake_engine, \"tableau_asm_opportunity_pipe_gen_snap_agg.sql\"\n",
    ")\n",
    "pipe_gen_snap_qend_opty[\"last_extracted_etl\"] = date.today()\n",
    "pipe_gen_snap_qend_opty[\"record_type\"] = \"pipe gen snap quarter end narr\""
   ]
  },
  {
   "cell_type": "code",
   "execution_count": null,
   "id": "5372316a-d436-44f0-8c25-4a443186f040",
   "metadata": {},
   "outputs": [],
   "source": [
    "## Consolidate tables into a single dataframe\n",
    "datasets = [\n",
    "    detail_opty,\n",
    "    agg_opty,\n",
    "    snap_opty,\n",
    "    snap_cq1_opty,\n",
    "    snap_cq2_opty,\n",
    "    pipe_gen_agg_opty,\n",
    "    pipe_gen_snap_opty,\n",
    "    pipe_gen_snap_qend_opty,\n",
    "]\n",
    "df_consolidated = pd.concat(datasets, axis=0, ignore_index=True)"
   ]
  },
  {
   "cell_type": "code",
   "execution_count": null,
   "id": "16b64690-cf32-4ed4-8354-dad11cb3087d",
   "metadata": {},
   "outputs": [],
   "source": [
    "df_consolidated.groupby(\"record_type\").agg(\"count\")"
   ]
  },
  {
   "cell_type": "markdown",
   "id": "7eb5d5a7-de49-41c2-b8e0-859c411650d3",
   "metadata": {},
   "source": [
    "# Extra adjustments to the dataset"
   ]
  },
  {
   "cell_type": "markdown",
   "id": "79eb7446-68eb-4f62-94b7-9fe0bd4838ab",
   "metadata": {},
   "source": [
    "## Load Industry Category\n",
    "\n",
    "The input tab is here https://docs.google.com/spreadsheets/d/19PPoHdc5nRZRX3dKGeGyYyTwqZ_x7GwD3EaDnwVm9Xs/edit#gid=976122736\n",
    "\n",
    "The tab was originally created by Meri and adjusted by me."
   ]
  },
  {
   "cell_type": "code",
   "execution_count": null,
   "id": "a1a55002-aa32-437b-b893-caf9ad883b28",
   "metadata": {},
   "outputs": [],
   "source": [
    "GSHEET_ID_NET_ARR = \"19PPoHdc5nRZRX3dKGeGyYyTwqZ_x7GwD3EaDnwVm9Xs\"\n",
    "\n",
    "\n",
    "sheet_id = GSHEET_ID_NET_ARR\n",
    "sheet_name = \"input_industry_to_industry_category\"\n",
    "\n",
    "industry_category = read_from_gsheets(sheet_id, sheet_name)\n",
    "\n",
    "\n",
    "print(len(industry_category))"
   ]
  },
  {
   "cell_type": "code",
   "execution_count": null,
   "id": "e1563f0a-c8c5-4114-8e49-423f8d02ee12",
   "metadata": {},
   "outputs": [],
   "source": [
    "df_consolidated = df_consolidated.merge(industry_category, on=\"industry\").copy()\n",
    "df_consolidated[\"industry\"] = df_consolidated[\"industry_category\"]"
   ]
  },
  {
   "cell_type": "code",
   "execution_count": null,
   "id": "ad7bd7a2-a6c5-4424-8d01-84b69689c364",
   "metadata": {},
   "outputs": [],
   "source": [
    "# merge industry category and substitute the original field with the adjusted one\n",
    "# to avoid messing with the view\n",
    "df_consolidated"
   ]
  },
  {
   "cell_type": "markdown",
   "id": "cf4fa320-de0a-4a73-828f-7e44b929669e",
   "metadata": {},
   "source": [
    "# Tests\n",
    "\n"
   ]
  },
  {
   "cell_type": "code",
   "execution_count": null,
   "id": "7773804e-f9e7-488a-8daa-3c25719cc8ae",
   "metadata": {},
   "outputs": [],
   "source": [
    "index = (\n",
    "    (df_consolidated[\"is_open_stage_1_plus\"] == True)\n",
    "    & (df_consolidated[\"record_type\"] == \"net arr aggregated\")\n",
    "    & (df_consolidated[\"close_fiscal_quarter_name\"] == \"FY24-Q2\")\n",
    ")\n",
    "df_consolidated[index].net_arr.sum()"
   ]
  },
  {
   "cell_type": "code",
   "execution_count": null,
   "id": "a2ac278a-6200-4945-96f6-b8e8243bd548",
   "metadata": {},
   "outputs": [],
   "source": [
    "index = (\n",
    "    (df_consolidated[\"is_open_stage_1_plus\"] == True)\n",
    "    & (df_consolidated[\"record_type\"] == \"net arr aggregated\")\n",
    "    & (df_consolidated[\"close_fiscal_quarter_name\"] == \"FY24-Q3\")\n",
    ")\n",
    "df_consolidated[index].groupby(\"industry\").net_arr.sum()"
   ]
  },
  {
   "cell_type": "code",
   "execution_count": null,
   "id": "c88506b6-43d8-4338-be22-3e2aa1537d1d",
   "metadata": {},
   "outputs": [],
   "source": [
    "### Add Temporary fields\n",
    "\n",
    "df_consolidated[\"sao_count\"] = 0\n",
    "df_consolidated[\"churn_contraction_net_arr\"] = 0"
   ]
  },
  {
   "cell_type": "markdown",
   "id": "1c365c21-201e-4328-8ed6-0a97515f7193",
   "metadata": {},
   "source": [
    "## Save Consolidated Table into Snowflake"
   ]
  },
  {
   "cell_type": "code",
   "execution_count": null,
   "id": "cb7fc141-2203-472e-98a6-8f3a4e1122e7",
   "metadata": {},
   "outputs": [],
   "source": [
    "target_columns = [\n",
    "    \"record_type\",\n",
    "    \"owner_id\",\n",
    "    \"opportunity_owner\",\n",
    "    \"account_id\",\n",
    "    \"account_name\",\n",
    "    \"report_opportunity_user_business_unit\",\n",
    "    \"report_opportunity_user_sub_business_unit\",\n",
    "    \"report_opportunity_user_division\",\n",
    "    \"report_opportunity_user_asm\",\n",
    "    \"report_opportunity_user_role_type\",\n",
    "    \"deal_size_bin\",\n",
    "    \"age_bin\",\n",
    "    \"partner_category\",\n",
    "    \"sales_qualified_source\",\n",
    "    \"stage_name\",\n",
    "    \"order_type_stamped\",\n",
    "    \"deal_group\",\n",
    "    \"sales_type\",\n",
    "    \"forecast_category_name\",\n",
    "    \"product_category_tier\",\n",
    "    \"product_category_deployment\",\n",
    "    \"parent_crm_account_upa_country_name\",\n",
    "    \"is_web_portal_purchase\",\n",
    "    \"is_open\",\n",
    "    \"is_stage_1_plus\",\n",
    "    \"is_stage_3_plus\",\n",
    "    \"fpa_master_bookings_flag\",\n",
    "    \"is_eligible_created_pipeline_flag\",\n",
    "    \"opportunity_id\",\n",
    "    \"opportunity_name\",\n",
    "    \"close_date\",\n",
    "    \"created_date\",\n",
    "    \"pipeline_created_date\",\n",
    "    \"report_date\",\n",
    "    \"net_arr\",\n",
    "    \"booked_net_arr\",\n",
    "    \"open_1plus_net_arr\",\n",
    "    \"deal_count\",\n",
    "    \"booked_deal_count\",\n",
    "    \"age_in_days\",\n",
    "    \"total_professional_services_value\",\n",
    "    \"total_book_professional_services_value\",\n",
    "    \"total_lost_professional_services_value\",\n",
    "    \"total_open_professional_services_value\",\n",
    "    \"prev_quarter_booked_net_arr\",\n",
    "    \"prev_quarter_booked_deal_count\",\n",
    "    \"prev_quarter_booked_professional_services\",\n",
    "    \"prev_year_booked_net_arr\",\n",
    "    \"prev_year_booked_deal_count\",\n",
    "    \"prev_year_booked_professional_services\",\n",
    "    \"is_open_pipeline_range_flag\",\n",
    "    \"is_bookings_range_flag\",\n",
    "    \"is_open_stage_1_plus\",\n",
    "    \"is_open_stage_3_plus\",\n",
    "    \"close_fiscal_year\",\n",
    "    \"close_fiscal_quarter_name\",\n",
    "    \"key_bu_subbu_division_asm_sqs_ot\",\n",
    "    \"key_bu_subbu\",\n",
    "    \"last_extracted_etl\",\n",
    "    \"snapshot_date\",\n",
    "    \"is_cfq_flag\",\n",
    "    \"is_cfq_plus_1_flag\",\n",
    "    \"is_cfq_plus_2_flag\",\n",
    "    \"industry\",\n",
    "    \"pipeline_landing_quarter\",\n",
    "    \"pipeline_created_fiscal_quarter_name\",\n",
    "    \"pipeline_created_fiscal_year\",\n",
    "    \"lam_dev_count_bin\",\n",
    "    \"lam_dev_count\",\n",
    "    \"is_pipe_gen_range_flag\",\n",
    "    \"prev_year_net_arr\",\n",
    "    \"prev_quarter_net_arr\",\n",
    "    \"is_eligible_open_pipeline_flag\",\n",
    "    \"sao_count\",\n",
    "    \"churn_contraction_net_arr\",\n",
    "    \"created_fiscal_quarter_name\",\n",
    "    \"created_fiscal_year\",\n",
    "    \"prev_quarter_booked_churned_contraction_net_arr\",\n",
    "    \"booked_churned_contraction_net_arr\",\n",
    "    \"booked_churned_contraction_deal_count\",\n",
    "    \"churned_contraction_net_arr\",\n",
    "    \"prev_year_booked_churned_contraction_net_arr\",\n",
    "    \"current_stage_age_bin\",\n",
    "    \"is_cfy_flag\",\n",
    "]"
   ]
  },
  {
   "cell_type": "code",
   "execution_count": null,
   "id": "436dd7ad-820d-4645-b8c1-82b7ebb915b5",
   "metadata": {},
   "outputs": [],
   "source": [
    "# Print columns in the model but not in the master upload list\n",
    "list(set(df_consolidated).difference(target_columns))"
   ]
  },
  {
   "cell_type": "code",
   "execution_count": null,
   "id": "b96e25fb-dd3d-48d1-a114-f2b567034f50",
   "metadata": {},
   "outputs": [],
   "source": [
    "# using datetime module\n",
    "import datetime\n",
    "\n",
    "# ct stores current time\n",
    "ct = datetime.datetime.now()\n",
    "print(\"current time:-\", ct)"
   ]
  },
  {
   "cell_type": "code",
   "execution_count": null,
   "id": "6b399185-409b-4117-94fc-9860fd1bb5ef",
   "metadata": {},
   "outputs": [],
   "source": [
    "%%time\n",
    "# upload to database\n",
    "print(len(df_consolidated))\n",
    "\n",
    "table_name = \"tableau_asm_consolidated_sources\"\n",
    "schema = \"SALES_ANALYTICS\"\n",
    "\n",
    "dataframe_uploader(\n",
    "    dataframe=df_consolidated[target_columns],\n",
    "    engine=snowflake_engine,\n",
    "    table_name=table_name,\n",
    "    schema=schema,\n",
    "    if_exists=\"replace\",\n",
    "    add_uploaded_at=True,\n",
    ")"
   ]
  },
  {
   "cell_type": "code",
   "execution_count": null,
   "id": "25791758-a0af-40fb-a83d-96be56f929aa",
   "metadata": {},
   "outputs": [],
   "source": [
    "# using datetime module\n",
    "import datetime\n",
    "\n",
    "# ct stores current time\n",
    "ct = datetime.datetime.now()\n",
    "print(\"current time:-\", ct)"
   ]
  },
  {
   "cell_type": "code",
   "execution_count": null,
   "id": "de46b8a0-895f-422e-83a0-1281ca296848",
   "metadata": {},
   "outputs": [],
   "source": []
  }
 ],
 "metadata": {
  "kernelspec": {
   "display_name": "Python 3 (ipykernel)",
   "language": "python",
   "name": "python3"
  },
  "language_info": {
   "codemirror_mode": {
    "name": "ipython",
    "version": 3
   },
   "file_extension": ".py",
   "mimetype": "text/x-python",
   "name": "python",
   "nbconvert_exporter": "python",
   "pygments_lexer": "ipython3",
   "version": "3.9.13"
  }
 },
 "nbformat": 4,
 "nbformat_minor": 5
}
